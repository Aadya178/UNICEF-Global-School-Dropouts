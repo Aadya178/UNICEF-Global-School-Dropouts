{
 "cells": [
  {
   "cell_type": "markdown",
   "metadata": {},
   "source": [
    "# Importing libraries and Global School dropouts UNICEF dataset"
   ]
  },
  {
   "cell_type": "markdown",
   "metadata": {},
   "source": [
    "# Data Extraction "
   ]
  },
  {
   "cell_type": "code",
   "execution_count": 1,
   "metadata": {
    "scrolled": true
   },
   "outputs": [],
   "source": [
    "%matplotlib inline"
   ]
  },
  {
   "cell_type": "code",
   "execution_count": 2,
   "metadata": {},
   "outputs": [],
   "source": [
    "from numpy import arange\n",
    "import numpy\n",
    "from matplotlib import pyplot as plt\n",
    "from scipy.stats import norm\n",
    "import pandas as pd\n",
    "from sklearn.model_selection import cross_val_score\n",
    "from sklearn.model_selection import KFold\n",
    "from sklearn.linear_model import LinearRegression\n",
    "from sklearn import model_selection"
   ]
  },
  {
   "cell_type": "code",
   "execution_count": 3,
   "metadata": {},
   "outputs": [],
   "source": [
    "plt.rcParams['figure.figsize'] = [16, 7] "
   ]
  },
  {
   "cell_type": "markdown",
   "metadata": {},
   "source": [
    "All columns represent the dropout rates of pupils based on different parameters"
   ]
  },
  {
   "cell_type": "code",
   "execution_count": 4,
   "metadata": {},
   "outputs": [],
   "source": [
    "columns=['Region','UNICEF Sub-region 1','Development Regions','Female','Male','Rural','Urban','Poorest','Poor','Middle Segment',\n",
    "         'Rich','Richest','Data Source','Time Period','Educational Level','Total Dropout']\n",
    "df = pd.read_csv(r\"C:/Users/Aadya/Desktop/Global_school_dropouts_UNICEF.csv\")"
   ]
  },
  {
   "cell_type": "code",
   "execution_count": 5,
   "metadata": {
    "scrolled": false
   },
   "outputs": [
    {
     "data": {
      "text/html": [
       "<div>\n",
       "<style scoped>\n",
       "    .dataframe tbody tr th:only-of-type {\n",
       "        vertical-align: middle;\n",
       "    }\n",
       "\n",
       "    .dataframe tbody tr th {\n",
       "        vertical-align: top;\n",
       "    }\n",
       "\n",
       "    .dataframe thead th {\n",
       "        text-align: right;\n",
       "    }\n",
       "</style>\n",
       "<table border=\"1\" class=\"dataframe\">\n",
       "  <thead>\n",
       "    <tr style=\"text-align: right;\">\n",
       "      <th></th>\n",
       "      <th>Region</th>\n",
       "      <th>UNICEF Sub-region 1</th>\n",
       "      <th>Development Regions</th>\n",
       "      <th>Female</th>\n",
       "      <th>Male</th>\n",
       "      <th>Rural</th>\n",
       "      <th>Urban</th>\n",
       "      <th>Poorest</th>\n",
       "      <th>Poor</th>\n",
       "      <th>Middle Segment</th>\n",
       "      <th>Rich</th>\n",
       "      <th>Richest</th>\n",
       "      <th>Data Source</th>\n",
       "      <th>Time Period</th>\n",
       "      <th>Educational Level</th>\n",
       "      <th>Total Dropout</th>\n",
       "    </tr>\n",
       "  </thead>\n",
       "  <tbody>\n",
       "    <tr>\n",
       "      <th>0</th>\n",
       "      <td>SA</td>\n",
       "      <td>SA</td>\n",
       "      <td>Least Developed</td>\n",
       "      <td>47.0</td>\n",
       "      <td>28.0</td>\n",
       "      <td>42.0</td>\n",
       "      <td>19.0</td>\n",
       "      <td>42.0</td>\n",
       "      <td>47.0</td>\n",
       "      <td>46.0</td>\n",
       "      <td>32.0</td>\n",
       "      <td>16.0</td>\n",
       "      <td>DHS 2015</td>\n",
       "      <td>2015.0</td>\n",
       "      <td>Primary</td>\n",
       "      <td>37.0</td>\n",
       "    </tr>\n",
       "    <tr>\n",
       "      <th>1</th>\n",
       "      <td>ECA</td>\n",
       "      <td>EECA</td>\n",
       "      <td>More Developed</td>\n",
       "      <td>2.0</td>\n",
       "      <td>3.0</td>\n",
       "      <td>4.0</td>\n",
       "      <td>1.0</td>\n",
       "      <td>4.0</td>\n",
       "      <td>3.0</td>\n",
       "      <td>2.0</td>\n",
       "      <td>2.0</td>\n",
       "      <td>1.0</td>\n",
       "      <td>DHS 2017-18</td>\n",
       "      <td>2018.0</td>\n",
       "      <td>Primary</td>\n",
       "      <td>2.0</td>\n",
       "    </tr>\n",
       "    <tr>\n",
       "      <th>2</th>\n",
       "      <td>MENA</td>\n",
       "      <td>MENA</td>\n",
       "      <td>Less Developed</td>\n",
       "      <td>2.0</td>\n",
       "      <td>2.0</td>\n",
       "      <td>2.0</td>\n",
       "      <td>2.0</td>\n",
       "      <td>3.0</td>\n",
       "      <td>2.0</td>\n",
       "      <td>2.0</td>\n",
       "      <td>2.0</td>\n",
       "      <td>1.0</td>\n",
       "      <td>MICS 2012-13</td>\n",
       "      <td>2013.0</td>\n",
       "      <td>Primary</td>\n",
       "      <td>2.0</td>\n",
       "    </tr>\n",
       "    <tr>\n",
       "      <th>3</th>\n",
       "      <td>ECA</td>\n",
       "      <td>WE</td>\n",
       "      <td>More Developed</td>\n",
       "      <td>NaN</td>\n",
       "      <td>NaN</td>\n",
       "      <td>NaN</td>\n",
       "      <td>NaN</td>\n",
       "      <td>NaN</td>\n",
       "      <td>NaN</td>\n",
       "      <td>NaN</td>\n",
       "      <td>NaN</td>\n",
       "      <td>NaN</td>\n",
       "      <td>NaN</td>\n",
       "      <td>NaN</td>\n",
       "      <td>Primary</td>\n",
       "      <td>NaN</td>\n",
       "    </tr>\n",
       "    <tr>\n",
       "      <th>4</th>\n",
       "      <td>SSA</td>\n",
       "      <td>ESA</td>\n",
       "      <td>Least Developed</td>\n",
       "      <td>22.0</td>\n",
       "      <td>21.0</td>\n",
       "      <td>35.0</td>\n",
       "      <td>14.0</td>\n",
       "      <td>39.0</td>\n",
       "      <td>33.0</td>\n",
       "      <td>19.0</td>\n",
       "      <td>12.0</td>\n",
       "      <td>5.0</td>\n",
       "      <td>DHS 2015-16</td>\n",
       "      <td>2016.0</td>\n",
       "      <td>Primary</td>\n",
       "      <td>22.0</td>\n",
       "    </tr>\n",
       "  </tbody>\n",
       "</table>\n",
       "</div>"
      ],
      "text/plain": [
       "  Region UNICEF Sub-region 1 Development Regions  Female  Male  Rural  Urban  \\\n",
       "0     SA                  SA     Least Developed    47.0  28.0   42.0   19.0   \n",
       "1    ECA                EECA      More Developed     2.0   3.0    4.0    1.0   \n",
       "2   MENA                MENA      Less Developed     2.0   2.0    2.0    2.0   \n",
       "3    ECA                  WE      More Developed     NaN   NaN    NaN    NaN   \n",
       "4    SSA                 ESA     Least Developed    22.0  21.0   35.0   14.0   \n",
       "\n",
       "   Poorest  Poor  Middle Segment  Rich  Richest   Data Source  Time Period  \\\n",
       "0     42.0  47.0            46.0  32.0     16.0      DHS 2015       2015.0   \n",
       "1      4.0   3.0             2.0   2.0      1.0   DHS 2017-18       2018.0   \n",
       "2      3.0   2.0             2.0   2.0      1.0  MICS 2012-13       2013.0   \n",
       "3      NaN   NaN             NaN   NaN      NaN           NaN          NaN   \n",
       "4     39.0  33.0            19.0  12.0      5.0   DHS 2015-16       2016.0   \n",
       "\n",
       "  Educational Level  Total Dropout  \n",
       "0           Primary           37.0  \n",
       "1           Primary            2.0  \n",
       "2           Primary            2.0  \n",
       "3           Primary            NaN  \n",
       "4           Primary           22.0  "
      ]
     },
     "execution_count": 5,
     "metadata": {},
     "output_type": "execute_result"
    }
   ],
   "source": [
    "df.columns = columns\n",
    "df.head()"
   ]
  },
  {
   "cell_type": "markdown",
   "metadata": {},
   "source": [
    "Removing the first row of the dataset. It will be used later."
   ]
  },
  {
   "cell_type": "code",
   "execution_count": 6,
   "metadata": {},
   "outputs": [
    {
     "data": {
      "text/html": [
       "<div>\n",
       "<style scoped>\n",
       "    .dataframe tbody tr th:only-of-type {\n",
       "        vertical-align: middle;\n",
       "    }\n",
       "\n",
       "    .dataframe tbody tr th {\n",
       "        vertical-align: top;\n",
       "    }\n",
       "\n",
       "    .dataframe thead th {\n",
       "        text-align: right;\n",
       "    }\n",
       "</style>\n",
       "<table border=\"1\" class=\"dataframe\">\n",
       "  <thead>\n",
       "    <tr style=\"text-align: right;\">\n",
       "      <th></th>\n",
       "      <th>Region</th>\n",
       "      <th>UNICEF Sub-region 1</th>\n",
       "      <th>Development Regions</th>\n",
       "      <th>Female</th>\n",
       "      <th>Male</th>\n",
       "      <th>Rural</th>\n",
       "      <th>Urban</th>\n",
       "      <th>Poorest</th>\n",
       "      <th>Poor</th>\n",
       "      <th>Middle Segment</th>\n",
       "      <th>Rich</th>\n",
       "      <th>Richest</th>\n",
       "      <th>Data Source</th>\n",
       "      <th>Time Period</th>\n",
       "      <th>Educational Level</th>\n",
       "      <th>Total Dropout</th>\n",
       "    </tr>\n",
       "  </thead>\n",
       "  <tbody>\n",
       "    <tr>\n",
       "      <th>0</th>\n",
       "      <td>SA</td>\n",
       "      <td>SA</td>\n",
       "      <td>Least Developed</td>\n",
       "      <td>47.0</td>\n",
       "      <td>28.0</td>\n",
       "      <td>42.0</td>\n",
       "      <td>19.0</td>\n",
       "      <td>42.0</td>\n",
       "      <td>47.0</td>\n",
       "      <td>46.0</td>\n",
       "      <td>32.0</td>\n",
       "      <td>16.0</td>\n",
       "      <td>DHS 2015</td>\n",
       "      <td>2015.0</td>\n",
       "      <td>Primary</td>\n",
       "      <td>37.0</td>\n",
       "    </tr>\n",
       "    <tr>\n",
       "      <th>1</th>\n",
       "      <td>ECA</td>\n",
       "      <td>EECA</td>\n",
       "      <td>More Developed</td>\n",
       "      <td>2.0</td>\n",
       "      <td>3.0</td>\n",
       "      <td>4.0</td>\n",
       "      <td>1.0</td>\n",
       "      <td>4.0</td>\n",
       "      <td>3.0</td>\n",
       "      <td>2.0</td>\n",
       "      <td>2.0</td>\n",
       "      <td>1.0</td>\n",
       "      <td>DHS 2017-18</td>\n",
       "      <td>2018.0</td>\n",
       "      <td>Primary</td>\n",
       "      <td>2.0</td>\n",
       "    </tr>\n",
       "  </tbody>\n",
       "</table>\n",
       "</div>"
      ],
      "text/plain": [
       "  Region UNICEF Sub-region 1 Development Regions  Female  Male  Rural  Urban  \\\n",
       "0     SA                  SA     Least Developed    47.0  28.0   42.0   19.0   \n",
       "1    ECA                EECA      More Developed     2.0   3.0    4.0    1.0   \n",
       "\n",
       "   Poorest  Poor  Middle Segment  Rich  Richest  Data Source  Time Period  \\\n",
       "0     42.0  47.0            46.0  32.0     16.0     DHS 2015       2015.0   \n",
       "1      4.0   3.0             2.0   2.0      1.0  DHS 2017-18       2018.0   \n",
       "\n",
       "  Educational Level  Total Dropout  \n",
       "0           Primary           37.0  \n",
       "1           Primary            2.0  "
      ]
     },
     "execution_count": 6,
     "metadata": {},
     "output_type": "execute_result"
    }
   ],
   "source": [
    "#Original dataframe\n",
    "df.head(2)"
   ]
  },
  {
   "cell_type": "code",
   "execution_count": 7,
   "metadata": {
    "scrolled": true
   },
   "outputs": [
    {
     "name": "stdout",
     "output_type": "stream",
     "text": [
      "['SSA', 'ESA', 'Less Developed', 54.0, 48.0, 55.0, 43.0, 63.0, 54.0, 52.0, 49.0, 38.0, 'MICS 2019', 2019.0, 'Upper secondary', 51.0]\n"
     ]
    }
   ],
   "source": [
    "#Removing the first row from the dataframe\n",
    "row = df.iloc[-1]\n",
    "#print(row)\n",
    "row=list(row)\n",
    "print(row)"
   ]
  },
  {
   "cell_type": "code",
   "execution_count": 8,
   "metadata": {},
   "outputs": [],
   "source": [
    "#Removing first row from the dataframe\n",
    "df = df.drop([0],axis=0)"
   ]
  },
  {
   "cell_type": "code",
   "execution_count": 9,
   "metadata": {
    "scrolled": true
   },
   "outputs": [
    {
     "data": {
      "text/html": [
       "<div>\n",
       "<style scoped>\n",
       "    .dataframe tbody tr th:only-of-type {\n",
       "        vertical-align: middle;\n",
       "    }\n",
       "\n",
       "    .dataframe tbody tr th {\n",
       "        vertical-align: top;\n",
       "    }\n",
       "\n",
       "    .dataframe thead th {\n",
       "        text-align: right;\n",
       "    }\n",
       "</style>\n",
       "<table border=\"1\" class=\"dataframe\">\n",
       "  <thead>\n",
       "    <tr style=\"text-align: right;\">\n",
       "      <th></th>\n",
       "      <th>Region</th>\n",
       "      <th>UNICEF Sub-region 1</th>\n",
       "      <th>Development Regions</th>\n",
       "      <th>Female</th>\n",
       "      <th>Male</th>\n",
       "      <th>Rural</th>\n",
       "      <th>Urban</th>\n",
       "      <th>Poorest</th>\n",
       "      <th>Poor</th>\n",
       "      <th>Middle Segment</th>\n",
       "      <th>Rich</th>\n",
       "      <th>Richest</th>\n",
       "      <th>Data Source</th>\n",
       "      <th>Time Period</th>\n",
       "      <th>Educational Level</th>\n",
       "      <th>Total Dropout</th>\n",
       "    </tr>\n",
       "  </thead>\n",
       "  <tbody>\n",
       "    <tr>\n",
       "      <th>1</th>\n",
       "      <td>ECA</td>\n",
       "      <td>EECA</td>\n",
       "      <td>More Developed</td>\n",
       "      <td>2.0</td>\n",
       "      <td>3.0</td>\n",
       "      <td>4.0</td>\n",
       "      <td>1.0</td>\n",
       "      <td>4.0</td>\n",
       "      <td>3.0</td>\n",
       "      <td>2.0</td>\n",
       "      <td>2.0</td>\n",
       "      <td>1.0</td>\n",
       "      <td>DHS 2017-18</td>\n",
       "      <td>2018.0</td>\n",
       "      <td>Primary</td>\n",
       "      <td>2.0</td>\n",
       "    </tr>\n",
       "  </tbody>\n",
       "</table>\n",
       "</div>"
      ],
      "text/plain": [
       "  Region UNICEF Sub-region 1 Development Regions  Female  Male  Rural  Urban  \\\n",
       "1    ECA                EECA      More Developed     2.0   3.0    4.0    1.0   \n",
       "\n",
       "   Poorest  Poor  Middle Segment  Rich  Richest  Data Source  Time Period  \\\n",
       "1      4.0   3.0             2.0   2.0      1.0  DHS 2017-18       2018.0   \n",
       "\n",
       "  Educational Level  Total Dropout  \n",
       "1           Primary            2.0  "
      ]
     },
     "execution_count": 9,
     "metadata": {},
     "output_type": "execute_result"
    }
   ],
   "source": [
    "#First row of the new dataframe\n",
    "df.head(1)"
   ]
  },
  {
   "cell_type": "markdown",
   "metadata": {},
   "source": [
    "# Data Exploration"
   ]
  },
  {
   "cell_type": "code",
   "execution_count": 10,
   "metadata": {
    "scrolled": false
   },
   "outputs": [
    {
     "name": "stdout",
     "output_type": "stream",
     "text": [
      "<class 'pandas.core.frame.DataFrame'>\n",
      "Int64Index: 605 entries, 1 to 605\n",
      "Data columns (total 16 columns):\n",
      " #   Column               Non-Null Count  Dtype  \n",
      "---  ------               --------------  -----  \n",
      " 0   Region               599 non-null    object \n",
      " 1   UNICEF Sub-region 1  599 non-null    object \n",
      " 2   Development Regions  605 non-null    object \n",
      " 3   Female               329 non-null    float64\n",
      " 4   Male                 329 non-null    float64\n",
      " 5   Rural                321 non-null    float64\n",
      " 6   Urban                321 non-null    float64\n",
      " 7   Poorest              305 non-null    float64\n",
      " 8   Poor                 305 non-null    float64\n",
      " 9   Middle Segment       305 non-null    float64\n",
      " 10  Rich                 305 non-null    float64\n",
      " 11  Richest              305 non-null    float64\n",
      " 12  Data Source          329 non-null    object \n",
      " 13  Time Period          329 non-null    float64\n",
      " 14  Educational Level    605 non-null    object \n",
      " 15  Total Dropout        329 non-null    float64\n",
      "dtypes: float64(11), object(5)\n",
      "memory usage: 80.4+ KB\n"
     ]
    }
   ],
   "source": [
    "#Information about the dataset\n",
    "df.info()"
   ]
  },
  {
   "cell_type": "code",
   "execution_count": 11,
   "metadata": {
    "scrolled": false
   },
   "outputs": [
    {
     "data": {
      "text/plain": [
       "Region                  object\n",
       "UNICEF Sub-region 1     object\n",
       "Development Regions     object\n",
       "Female                 float64\n",
       "Male                   float64\n",
       "Rural                  float64\n",
       "Urban                  float64\n",
       "Poorest                float64\n",
       "Poor                   float64\n",
       "Middle Segment         float64\n",
       "Rich                   float64\n",
       "Richest                float64\n",
       "Data Source             object\n",
       "Time Period            float64\n",
       "Educational Level       object\n",
       "Total Dropout          float64\n",
       "dtype: object"
      ]
     },
     "execution_count": 11,
     "metadata": {},
     "output_type": "execute_result"
    }
   ],
   "source": [
    "#Data types of the dataset columns\n",
    "df.dtypes"
   ]
  },
  {
   "cell_type": "code",
   "execution_count": 12,
   "metadata": {},
   "outputs": [
    {
     "data": {
      "text/plain": [
       "Index                  4840\n",
       "Region                 4840\n",
       "UNICEF Sub-region 1    4840\n",
       "Development Regions    4840\n",
       "Female                 4840\n",
       "Male                   4840\n",
       "Rural                  4840\n",
       "Urban                  4840\n",
       "Poorest                4840\n",
       "Poor                   4840\n",
       "Middle Segment         4840\n",
       "Rich                   4840\n",
       "Richest                4840\n",
       "Data Source            4840\n",
       "Time Period            4840\n",
       "Educational Level      4840\n",
       "Total Dropout          4840\n",
       "dtype: int64"
      ]
     },
     "execution_count": 12,
     "metadata": {},
     "output_type": "execute_result"
    }
   ],
   "source": [
    "#Memory used by each column in the dataset\n",
    "df.memory_usage()"
   ]
  },
  {
   "cell_type": "code",
   "execution_count": 13,
   "metadata": {},
   "outputs": [
    {
     "data": {
      "text/plain": [
       "82280"
      ]
     },
     "execution_count": 13,
     "metadata": {},
     "output_type": "execute_result"
    }
   ],
   "source": [
    "#Total memory used by the dataset\n",
    "df.memory_usage().sum()"
   ]
  },
  {
   "cell_type": "markdown",
   "metadata": {},
   "source": [
    "# Data Visualization"
   ]
  },
  {
   "cell_type": "code",
   "execution_count": 14,
   "metadata": {},
   "outputs": [
    {
     "data": {
      "image/png": "[encoded data removed]",
      "text/plain": [
       "<Figure size 576x576 with 1 Axes>"
      ]
     },
     "metadata": {
      "needs_background": "light"
     },
     "output_type": "display_data"
    }
   ],
   "source": [
    "#Boxplot\n",
    "df['Total Dropout'].plot.box(figsize=(8, 8));"
   ]
  },
  {
   "cell_type": "code",
   "execution_count": 15,
   "metadata": {
    "scrolled": false
   },
   "outputs": [
    {
     "data": {
      "text/plain": [
       "<AxesSubplot:>"
      ]
     },
     "execution_count": 15,
     "metadata": {},
     "output_type": "execute_result"
    },
    {
     "data": {
      "image/png": "[encoded data removed]",
      "text/plain": [
       "<Figure size 1440x720 with 1 Axes>"
      ]
     },
     "metadata": {
      "needs_background": "light"
     },
     "output_type": "display_data"
    }
   ],
   "source": [
    "#Boxplot of all the columns with numerical data\n",
    "df.boxplot(figsize=(20,10))"
   ]
  },
  {
   "cell_type": "code",
   "execution_count": 16,
   "metadata": {},
   "outputs": [
    {
     "data": {
      "image/png": "[encoded data removed]",
      "text/plain": [
       "<Figure size 1080x360 with 1 Axes>"
      ]
     },
     "metadata": {
      "needs_background": "light"
     },
     "output_type": "display_data"
    }
   ],
   "source": [
    "#Histogram\n",
    "df['Total Dropout'].hist(bins=50, figsize=(15, 5));"
   ]
  },
  {
   "cell_type": "code",
   "execution_count": 17,
   "metadata": {},
   "outputs": [
    {
     "data": {
      "image/png": "[encoded data removed]",
      "text/plain": [
       "<Figure size 1080x360 with 1 Axes>"
      ]
     },
     "metadata": {
      "needs_background": "light"
     },
     "output_type": "display_data"
    }
   ],
   "source": [
    "#Histogram with specifications\n",
    "ax = df['Total Dropout'].hist(bins=100, color='pink', figsize=(15, 5))\n",
    "ax.set_xlabel('Total Dropout')\n",
    "ax.set_xlim(0,90) #limiting display range to 0-90 for the x-axis\n",
    "ax.set_ylim(0,45); #limiting display range to 0-45 for the y-axis"
   ]
  },
  {
   "cell_type": "code",
   "execution_count": 18,
   "metadata": {},
   "outputs": [
    {
     "data": {
      "image/png": "[encoded data removed]",
      "text/plain": [
       "<Figure size 1152x504 with 1 Axes>"
      ]
     },
     "metadata": {
      "needs_background": "light"
     },
     "output_type": "display_data"
    }
   ],
   "source": [
    "#Barplot with Female dropout as dependent variable\n",
    "df_avg_female = df.groupby('Total Dropout')['Female'].mean()\n",
    "df_avg_female[:].plot.bar(color='orange');"
   ]
  },
  {
   "cell_type": "markdown",
   "metadata": {},
   "source": [
    "# Data Cleaning"
   ]
  },
  {
   "cell_type": "code",
   "execution_count": 19,
   "metadata": {
    "scrolled": false
   },
   "outputs": [
    {
     "data": {
      "text/plain": [
       "3460"
      ]
     },
     "execution_count": 19,
     "metadata": {},
     "output_type": "execute_result"
    }
   ],
   "source": [
    "#Check if there are missing values in the dataset\n",
    "df.isnull().sum().sum()"
   ]
  },
  {
   "cell_type": "code",
   "execution_count": 20,
   "metadata": {},
   "outputs": [],
   "source": [
    "#Removing null values from the dataset\n",
    "df=df.dropna()"
   ]
  },
  {
   "cell_type": "code",
   "execution_count": 21,
   "metadata": {},
   "outputs": [
    {
     "data": {
      "text/plain": [
       "0"
      ]
     },
     "execution_count": 21,
     "metadata": {},
     "output_type": "execute_result"
    }
   ],
   "source": [
    "#Recheck if there are missing values in the dataset\n",
    "df.isnull().sum().sum()"
   ]
  },
  {
   "cell_type": "code",
   "execution_count": 22,
   "metadata": {
    "scrolled": false
   },
   "outputs": [
    {
     "data": {
      "text/plain": [
       "0"
      ]
     },
     "execution_count": 22,
     "metadata": {},
     "output_type": "execute_result"
    }
   ],
   "source": [
    "#Check if there are duplicate rows in the dataset\n",
    "df.duplicated().sum()"
   ]
  },
  {
   "cell_type": "code",
   "execution_count": 23,
   "metadata": {},
   "outputs": [
    {
     "name": "stdout",
     "output_type": "stream",
     "text": [
      "302\n"
     ]
    }
   ],
   "source": [
    "#No. of rows in the dataset after cleaning\n",
    "print(len(df.axes[0]))"
   ]
  },
  {
   "cell_type": "markdown",
   "metadata": {},
   "source": [
    "# Label encoding columns having non-integer values"
   ]
  },
  {
   "cell_type": "code",
   "execution_count": 24,
   "metadata": {},
   "outputs": [],
   "source": [
    "df['Region'].replace({'SA':0,'ECA':1,'MENA':2,'SSA':3,'LAC':4,'EAP':5,'NA':6},inplace=True)"
   ]
  },
  {
   "cell_type": "code",
   "execution_count": 25,
   "metadata": {},
   "outputs": [],
   "source": [
    "df['UNICEF Sub-region 1'].replace({'SA':0,'EECA':1,'MENA':2,'WE':3,'ESA':4,'LAC':5,'EAP':6,'WCA':7,'NA':8},inplace=True)"
   ]
  },
  {
   "cell_type": "code",
   "execution_count": 26,
   "metadata": {},
   "outputs": [],
   "source": [
    "df['Development Regions'].replace({'Not Classified':0,'Least Developed':1,'Less Developed':2,'More Developed':3},inplace=True)"
   ]
  },
  {
   "cell_type": "code",
   "execution_count": 27,
   "metadata": {},
   "outputs": [],
   "source": [
    "df['Data Source'].replace({'DHS 2015':0,'DHS 2017-18':1,'MICS 2012-13':2,'DHS 2015-16':3,'MICS 2011-12':4,'MICS 2019':5,\n",
    "                          'MICS 2012':6,'MICS 2015-16':7,'MICS 2010':8,'Botswana Demographic Survey 2017':9,'PNAD 2019':10,\n",
    "                          'DHS 2010':11,'DHS 2016-17':12,'DHS 2014':13,'DHS 2018':14,'DHS 2014-15':15,'CASEN 2017':16,\n",
    "                          'National Population Sample Survey 2015':17,'DHS 2012':18,'MICS 2014-15':19,'MICS 2018':20,\n",
    "                          'MICS 2016':21,'MICS 2017':22,'MICS 2017-18':23,'MICS 2014':24,'GEPH-ENEMDU-DICIEMBRE - 2019':25,\n",
    "                          'DHS 2016-17':26,'DHS 2013':27,'MICS 2018-19':28,'Encuesta Permanente de Hogares 2018':29,\n",
    "                          'National Socio-Economic Survey 2018':30,'MICS 2011':31,'MICS 2015':32,'ENIGH 2018':33,'DHS 2011':34,\n",
    "                          'Population and Housing Census 2011':35,'MICS 2013':36,'DHS 2017':37,'DHS 2019':38,'DHS 2016':39,\n",
    "                           'DHS style 2013':40,'Institute of Educational Sciences and UNICEF 2015-2016':41,'DHS 2015':42,\n",
    "                          'Encuesta Permanente de Hogares 2017':43},\n",
    "                          inplace=True)"
   ]
  },
  {
   "cell_type": "code",
   "execution_count": 28,
   "metadata": {},
   "outputs": [],
   "source": [
    "df['Educational Level'].replace({'Primary':0,'Lower secondary':1,'Upper secondary':2},inplace=True)"
   ]
  },
  {
   "cell_type": "code",
   "execution_count": 29,
   "metadata": {
    "scrolled": true
   },
   "outputs": [
    {
     "data": {
      "text/html": [
       "<div>\n",
       "<style scoped>\n",
       "    .dataframe tbody tr th:only-of-type {\n",
       "        vertical-align: middle;\n",
       "    }\n",
       "\n",
       "    .dataframe tbody tr th {\n",
       "        vertical-align: top;\n",
       "    }\n",
       "\n",
       "    .dataframe thead th {\n",
       "        text-align: right;\n",
       "    }\n",
       "</style>\n",
       "<table border=\"1\" class=\"dataframe\">\n",
       "  <thead>\n",
       "    <tr style=\"text-align: right;\">\n",
       "      <th></th>\n",
       "      <th>Region</th>\n",
       "      <th>UNICEF Sub-region 1</th>\n",
       "      <th>Development Regions</th>\n",
       "      <th>Female</th>\n",
       "      <th>Male</th>\n",
       "      <th>Rural</th>\n",
       "      <th>Urban</th>\n",
       "      <th>Poorest</th>\n",
       "      <th>Poor</th>\n",
       "      <th>Middle Segment</th>\n",
       "      <th>Rich</th>\n",
       "      <th>Richest</th>\n",
       "      <th>Data Source</th>\n",
       "      <th>Time Period</th>\n",
       "      <th>Educational Level</th>\n",
       "      <th>Total Dropout</th>\n",
       "    </tr>\n",
       "  </thead>\n",
       "  <tbody>\n",
       "    <tr>\n",
       "      <th>1</th>\n",
       "      <td>1</td>\n",
       "      <td>1</td>\n",
       "      <td>3</td>\n",
       "      <td>2.0</td>\n",
       "      <td>3.0</td>\n",
       "      <td>4.0</td>\n",
       "      <td>1.0</td>\n",
       "      <td>4.0</td>\n",
       "      <td>3.0</td>\n",
       "      <td>2.0</td>\n",
       "      <td>2.0</td>\n",
       "      <td>1.0</td>\n",
       "      <td>1</td>\n",
       "      <td>2018.0</td>\n",
       "      <td>0</td>\n",
       "      <td>2.0</td>\n",
       "    </tr>\n",
       "    <tr>\n",
       "      <th>2</th>\n",
       "      <td>2</td>\n",
       "      <td>2</td>\n",
       "      <td>2</td>\n",
       "      <td>2.0</td>\n",
       "      <td>2.0</td>\n",
       "      <td>2.0</td>\n",
       "      <td>2.0</td>\n",
       "      <td>3.0</td>\n",
       "      <td>2.0</td>\n",
       "      <td>2.0</td>\n",
       "      <td>2.0</td>\n",
       "      <td>1.0</td>\n",
       "      <td>2</td>\n",
       "      <td>2013.0</td>\n",
       "      <td>0</td>\n",
       "      <td>2.0</td>\n",
       "    </tr>\n",
       "    <tr>\n",
       "      <th>4</th>\n",
       "      <td>3</td>\n",
       "      <td>4</td>\n",
       "      <td>1</td>\n",
       "      <td>22.0</td>\n",
       "      <td>21.0</td>\n",
       "      <td>35.0</td>\n",
       "      <td>14.0</td>\n",
       "      <td>39.0</td>\n",
       "      <td>33.0</td>\n",
       "      <td>19.0</td>\n",
       "      <td>12.0</td>\n",
       "      <td>5.0</td>\n",
       "      <td>3</td>\n",
       "      <td>2016.0</td>\n",
       "      <td>0</td>\n",
       "      <td>22.0</td>\n",
       "    </tr>\n",
       "    <tr>\n",
       "      <th>7</th>\n",
       "      <td>4</td>\n",
       "      <td>5</td>\n",
       "      <td>2</td>\n",
       "      <td>1.0</td>\n",
       "      <td>2.0</td>\n",
       "      <td>0.0</td>\n",
       "      <td>0.0</td>\n",
       "      <td>1.0</td>\n",
       "      <td>0.0</td>\n",
       "      <td>2.0</td>\n",
       "      <td>2.0</td>\n",
       "      <td>1.0</td>\n",
       "      <td>4</td>\n",
       "      <td>2012.0</td>\n",
       "      <td>0</td>\n",
       "      <td>1.0</td>\n",
       "    </tr>\n",
       "    <tr>\n",
       "      <th>8</th>\n",
       "      <td>1</td>\n",
       "      <td>1</td>\n",
       "      <td>2</td>\n",
       "      <td>4.0</td>\n",
       "      <td>5.0</td>\n",
       "      <td>6.0</td>\n",
       "      <td>3.0</td>\n",
       "      <td>6.0</td>\n",
       "      <td>7.0</td>\n",
       "      <td>6.0</td>\n",
       "      <td>3.0</td>\n",
       "      <td>2.0</td>\n",
       "      <td>3</td>\n",
       "      <td>2016.0</td>\n",
       "      <td>0</td>\n",
       "      <td>5.0</td>\n",
       "    </tr>\n",
       "  </tbody>\n",
       "</table>\n",
       "</div>"
      ],
      "text/plain": [
       "   Region  UNICEF Sub-region 1  Development Regions  Female  Male  Rural  \\\n",
       "1       1                    1                    3     2.0   3.0    4.0   \n",
       "2       2                    2                    2     2.0   2.0    2.0   \n",
       "4       3                    4                    1    22.0  21.0   35.0   \n",
       "7       4                    5                    2     1.0   2.0    0.0   \n",
       "8       1                    1                    2     4.0   5.0    6.0   \n",
       "\n",
       "   Urban  Poorest  Poor  Middle Segment  Rich  Richest  Data Source  \\\n",
       "1    1.0      4.0   3.0             2.0   2.0      1.0            1   \n",
       "2    2.0      3.0   2.0             2.0   2.0      1.0            2   \n",
       "4   14.0     39.0  33.0            19.0  12.0      5.0            3   \n",
       "7    0.0      1.0   0.0             2.0   2.0      1.0            4   \n",
       "8    3.0      6.0   7.0             6.0   3.0      2.0            3   \n",
       "\n",
       "   Time Period  Educational Level  Total Dropout  \n",
       "1       2018.0                  0            2.0  \n",
       "2       2013.0                  0            2.0  \n",
       "4       2016.0                  0           22.0  \n",
       "7       2012.0                  0            1.0  \n",
       "8       2016.0                  0            5.0  "
      ]
     },
     "execution_count": 29,
     "metadata": {},
     "output_type": "execute_result"
    }
   ],
   "source": [
    "df.head()"
   ]
  },
  {
   "cell_type": "code",
   "execution_count": 30,
   "metadata": {
    "scrolled": false
   },
   "outputs": [
    {
     "data": {
      "text/html": [
       "<div>\n",
       "<style scoped>\n",
       "    .dataframe tbody tr th:only-of-type {\n",
       "        vertical-align: middle;\n",
       "    }\n",
       "\n",
       "    .dataframe tbody tr th {\n",
       "        vertical-align: top;\n",
       "    }\n",
       "\n",
       "    .dataframe thead th {\n",
       "        text-align: right;\n",
       "    }\n",
       "</style>\n",
       "<table border=\"1\" class=\"dataframe\">\n",
       "  <thead>\n",
       "    <tr style=\"text-align: right;\">\n",
       "      <th></th>\n",
       "      <th>Region</th>\n",
       "      <th>UNICEF Sub-region 1</th>\n",
       "      <th>Development Regions</th>\n",
       "      <th>Female</th>\n",
       "      <th>Male</th>\n",
       "      <th>Rural</th>\n",
       "      <th>Urban</th>\n",
       "      <th>Poorest</th>\n",
       "      <th>Poor</th>\n",
       "      <th>Middle Segment</th>\n",
       "      <th>Rich</th>\n",
       "      <th>Richest</th>\n",
       "      <th>Data Source</th>\n",
       "      <th>Time Period</th>\n",
       "      <th>Educational Level</th>\n",
       "      <th>Total Dropout</th>\n",
       "    </tr>\n",
       "  </thead>\n",
       "  <tbody>\n",
       "    <tr>\n",
       "      <th>count</th>\n",
       "      <td>302.000000</td>\n",
       "      <td>302.000000</td>\n",
       "      <td>302.000000</td>\n",
       "      <td>302.000000</td>\n",
       "      <td>302.000000</td>\n",
       "      <td>302.000000</td>\n",
       "      <td>302.000000</td>\n",
       "      <td>302.000000</td>\n",
       "      <td>302.000000</td>\n",
       "      <td>302.000000</td>\n",
       "      <td>302.000000</td>\n",
       "      <td>302.000000</td>\n",
       "      <td>302.000000</td>\n",
       "      <td>302.000000</td>\n",
       "      <td>302.000000</td>\n",
       "      <td>302.000000</td>\n",
       "    </tr>\n",
       "    <tr>\n",
       "      <th>mean</th>\n",
       "      <td>2.821192</td>\n",
       "      <td>4.185430</td>\n",
       "      <td>1.675497</td>\n",
       "      <td>19.930464</td>\n",
       "      <td>18.370861</td>\n",
       "      <td>22.874172</td>\n",
       "      <td>13.473510</td>\n",
       "      <td>29.771523</td>\n",
       "      <td>23.135762</td>\n",
       "      <td>19.139073</td>\n",
       "      <td>14.682119</td>\n",
       "      <td>9.357616</td>\n",
       "      <td>19.162252</td>\n",
       "      <td>2015.473510</td>\n",
       "      <td>0.996689</td>\n",
       "      <td>19.182119</td>\n",
       "    </tr>\n",
       "    <tr>\n",
       "      <th>std</th>\n",
       "      <td>1.393321</td>\n",
       "      <td>2.321083</td>\n",
       "      <td>0.615953</td>\n",
       "      <td>20.900932</td>\n",
       "      <td>17.409134</td>\n",
       "      <td>22.069448</td>\n",
       "      <td>13.822473</td>\n",
       "      <td>25.967091</td>\n",
       "      <td>23.295832</td>\n",
       "      <td>20.807787</td>\n",
       "      <td>17.465817</td>\n",
       "      <td>12.121941</td>\n",
       "      <td>11.737586</td>\n",
       "      <td>2.582389</td>\n",
       "      <td>0.817168</td>\n",
       "      <td>18.933086</td>\n",
       "    </tr>\n",
       "    <tr>\n",
       "      <th>min</th>\n",
       "      <td>0.000000</td>\n",
       "      <td>0.000000</td>\n",
       "      <td>1.000000</td>\n",
       "      <td>0.000000</td>\n",
       "      <td>0.000000</td>\n",
       "      <td>0.000000</td>\n",
       "      <td>0.000000</td>\n",
       "      <td>0.000000</td>\n",
       "      <td>0.000000</td>\n",
       "      <td>0.000000</td>\n",
       "      <td>0.000000</td>\n",
       "      <td>0.000000</td>\n",
       "      <td>1.000000</td>\n",
       "      <td>2010.000000</td>\n",
       "      <td>0.000000</td>\n",
       "      <td>0.000000</td>\n",
       "    </tr>\n",
       "    <tr>\n",
       "      <th>25%</th>\n",
       "      <td>2.000000</td>\n",
       "      <td>2.000000</td>\n",
       "      <td>1.000000</td>\n",
       "      <td>3.000000</td>\n",
       "      <td>4.000000</td>\n",
       "      <td>4.000000</td>\n",
       "      <td>3.000000</td>\n",
       "      <td>6.000000</td>\n",
       "      <td>3.250000</td>\n",
       "      <td>3.000000</td>\n",
       "      <td>2.000000</td>\n",
       "      <td>1.000000</td>\n",
       "      <td>7.250000</td>\n",
       "      <td>2014.000000</td>\n",
       "      <td>0.000000</td>\n",
       "      <td>3.000000</td>\n",
       "    </tr>\n",
       "    <tr>\n",
       "      <th>50%</th>\n",
       "      <td>3.000000</td>\n",
       "      <td>5.000000</td>\n",
       "      <td>2.000000</td>\n",
       "      <td>12.500000</td>\n",
       "      <td>14.000000</td>\n",
       "      <td>16.000000</td>\n",
       "      <td>9.000000</td>\n",
       "      <td>24.000000</td>\n",
       "      <td>15.000000</td>\n",
       "      <td>11.000000</td>\n",
       "      <td>7.000000</td>\n",
       "      <td>4.000000</td>\n",
       "      <td>20.000000</td>\n",
       "      <td>2016.000000</td>\n",
       "      <td>1.000000</td>\n",
       "      <td>13.500000</td>\n",
       "    </tr>\n",
       "    <tr>\n",
       "      <th>75%</th>\n",
       "      <td>4.000000</td>\n",
       "      <td>6.000000</td>\n",
       "      <td>2.000000</td>\n",
       "      <td>30.750000</td>\n",
       "      <td>27.750000</td>\n",
       "      <td>35.750000</td>\n",
       "      <td>20.000000</td>\n",
       "      <td>46.750000</td>\n",
       "      <td>36.000000</td>\n",
       "      <td>29.000000</td>\n",
       "      <td>21.000000</td>\n",
       "      <td>13.000000</td>\n",
       "      <td>27.000000</td>\n",
       "      <td>2018.000000</td>\n",
       "      <td>2.000000</td>\n",
       "      <td>28.750000</td>\n",
       "    </tr>\n",
       "    <tr>\n",
       "      <th>max</th>\n",
       "      <td>5.000000</td>\n",
       "      <td>7.000000</td>\n",
       "      <td>3.000000</td>\n",
       "      <td>91.000000</td>\n",
       "      <td>79.000000</td>\n",
       "      <td>95.000000</td>\n",
       "      <td>70.000000</td>\n",
       "      <td>99.000000</td>\n",
       "      <td>97.000000</td>\n",
       "      <td>97.000000</td>\n",
       "      <td>92.000000</td>\n",
       "      <td>63.000000</td>\n",
       "      <td>43.000000</td>\n",
       "      <td>2019.000000</td>\n",
       "      <td>2.000000</td>\n",
       "      <td>86.000000</td>\n",
       "    </tr>\n",
       "  </tbody>\n",
       "</table>\n",
       "</div>"
      ],
      "text/plain": [
       "           Region  UNICEF Sub-region 1  Development Regions      Female  \\\n",
       "count  302.000000           302.000000           302.000000  302.000000   \n",
       "mean     2.821192             4.185430             1.675497   19.930464   \n",
       "std      1.393321             2.321083             0.615953   20.900932   \n",
       "min      0.000000             0.000000             1.000000    0.000000   \n",
       "25%      2.000000             2.000000             1.000000    3.000000   \n",
       "50%      3.000000             5.000000             2.000000   12.500000   \n",
       "75%      4.000000             6.000000             2.000000   30.750000   \n",
       "max      5.000000             7.000000             3.000000   91.000000   \n",
       "\n",
       "             Male       Rural       Urban     Poorest        Poor  \\\n",
       "count  302.000000  302.000000  302.000000  302.000000  302.000000   \n",
       "mean    18.370861   22.874172   13.473510   29.771523   23.135762   \n",
       "std     17.409134   22.069448   13.822473   25.967091   23.295832   \n",
       "min      0.000000    0.000000    0.000000    0.000000    0.000000   \n",
       "25%      4.000000    4.000000    3.000000    6.000000    3.250000   \n",
       "50%     14.000000   16.000000    9.000000   24.000000   15.000000   \n",
       "75%     27.750000   35.750000   20.000000   46.750000   36.000000   \n",
       "max     79.000000   95.000000   70.000000   99.000000   97.000000   \n",
       "\n",
       "       Middle Segment        Rich     Richest  Data Source  Time Period  \\\n",
       "count      302.000000  302.000000  302.000000   302.000000   302.000000   \n",
       "mean        19.139073   14.682119    9.357616    19.162252  2015.473510   \n",
       "std         20.807787   17.465817   12.121941    11.737586     2.582389   \n",
       "min          0.000000    0.000000    0.000000     1.000000  2010.000000   \n",
       "25%          3.000000    2.000000    1.000000     7.250000  2014.000000   \n",
       "50%         11.000000    7.000000    4.000000    20.000000  2016.000000   \n",
       "75%         29.000000   21.000000   13.000000    27.000000  2018.000000   \n",
       "max         97.000000   92.000000   63.000000    43.000000  2019.000000   \n",
       "\n",
       "       Educational Level  Total Dropout  \n",
       "count         302.000000     302.000000  \n",
       "mean            0.996689      19.182119  \n",
       "std             0.817168      18.933086  \n",
       "min             0.000000       0.000000  \n",
       "25%             0.000000       3.000000  \n",
       "50%             1.000000      13.500000  \n",
       "75%             2.000000      28.750000  \n",
       "max             2.000000      86.000000  "
      ]
     },
     "execution_count": 30,
     "metadata": {},
     "output_type": "execute_result"
    }
   ],
   "source": [
    "#Statistics for all the dataset columns\n",
    "df.describe()"
   ]
  },
  {
   "cell_type": "code",
   "execution_count": 31,
   "metadata": {},
   "outputs": [
    {
     "data": {
      "text/plain": [
       "Region                   1.941343\n",
       "UNICEF Sub-region 1      5.387428\n",
       "Development Regions      0.379398\n",
       "Female                 436.848969\n",
       "Male                   303.077952\n",
       "Rural                  487.060527\n",
       "Urban                  191.060758\n",
       "Poorest                674.289818\n",
       "Poor                   542.695793\n",
       "Middle Segment         432.963983\n",
       "Rich                   305.054762\n",
       "Richest                146.941453\n",
       "Data Source            137.770929\n",
       "Time Period              6.668731\n",
       "Educational Level        0.667763\n",
       "Total Dropout          358.461739\n",
       "dtype: float64"
      ]
     },
     "execution_count": 31,
     "metadata": {},
     "output_type": "execute_result"
    }
   ],
   "source": [
    "#Variance\n",
    "df.var()"
   ]
  },
  {
   "cell_type": "code",
   "execution_count": 32,
   "metadata": {},
   "outputs": [
    {
     "data": {
      "text/plain": [
       "Region                -0.441176\n",
       "UNICEF Sub-region 1   -0.435417\n",
       "Development Regions    0.336217\n",
       "Female                 1.195539\n",
       "Male                   1.109291\n",
       "Rural                  0.965717\n",
       "Urban                  1.398729\n",
       "Poorest                0.708961\n",
       "Poor                   1.026683\n",
       "Middle Segment         1.304636\n",
       "Rich                   1.620148\n",
       "Richest                1.966928\n",
       "Data Source            0.138877\n",
       "Time Period           -0.399372\n",
       "Educational Level      0.006109\n",
       "Total Dropout          1.139648\n",
       "dtype: float64"
      ]
     },
     "execution_count": 32,
     "metadata": {},
     "output_type": "execute_result"
    }
   ],
   "source": [
    "#Skewness\n",
    "df.skew()"
   ]
  },
  {
   "cell_type": "code",
   "execution_count": 33,
   "metadata": {
    "scrolled": true
   },
   "outputs": [
    {
     "data": {
      "text/plain": [
       "Region                -0.506458\n",
       "UNICEF Sub-region 1   -1.092629\n",
       "Development Regions   -0.652230\n",
       "Female                 0.583931\n",
       "Male                   0.623715\n",
       "Rural                  0.033932\n",
       "Urban                  1.610341\n",
       "Poorest               -0.575796\n",
       "Poor                   0.146258\n",
       "Middle Segment         1.026929\n",
       "Rich                   2.248416\n",
       "Richest                3.859236\n",
       "Data Source           -0.955609\n",
       "Time Period           -0.942130\n",
       "Educational Level     -1.502421\n",
       "Total Dropout          0.596511\n",
       "dtype: float64"
      ]
     },
     "execution_count": 33,
     "metadata": {},
     "output_type": "execute_result"
    }
   ],
   "source": [
    "#Kurtosis\n",
    "df.kurtosis()"
   ]
  },
  {
   "cell_type": "markdown",
   "metadata": {},
   "source": [
    "# Feature Selection"
   ]
  },
  {
   "cell_type": "code",
   "execution_count": 34,
   "metadata": {
    "scrolled": false
   },
   "outputs": [
    {
     "data": {
      "text/html": [
       "<div>\n",
       "<style scoped>\n",
       "    .dataframe tbody tr th:only-of-type {\n",
       "        vertical-align: middle;\n",
       "    }\n",
       "\n",
       "    .dataframe tbody tr th {\n",
       "        vertical-align: top;\n",
       "    }\n",
       "\n",
       "    .dataframe thead th {\n",
       "        text-align: right;\n",
       "    }\n",
       "</style>\n",
       "<table border=\"1\" class=\"dataframe\">\n",
       "  <thead>\n",
       "    <tr style=\"text-align: right;\">\n",
       "      <th></th>\n",
       "      <th>Region</th>\n",
       "      <th>UNICEF Sub-region 1</th>\n",
       "      <th>Development Regions</th>\n",
       "      <th>Female</th>\n",
       "      <th>Male</th>\n",
       "      <th>Rural</th>\n",
       "      <th>Urban</th>\n",
       "      <th>Poorest</th>\n",
       "      <th>Poor</th>\n",
       "      <th>Middle Segment</th>\n",
       "      <th>Rich</th>\n",
       "      <th>Richest</th>\n",
       "      <th>Data Source</th>\n",
       "      <th>Time Period</th>\n",
       "      <th>Educational Level</th>\n",
       "      <th>Total Dropout</th>\n",
       "    </tr>\n",
       "  </thead>\n",
       "  <tbody>\n",
       "    <tr>\n",
       "      <th>Region</th>\n",
       "      <td>1.000000</td>\n",
       "      <td>0.803352</td>\n",
       "      <td>-0.242034</td>\n",
       "      <td>0.051023</td>\n",
       "      <td>0.113273</td>\n",
       "      <td>0.089913</td>\n",
       "      <td>0.073412</td>\n",
       "      <td>0.086192</td>\n",
       "      <td>0.076595</td>\n",
       "      <td>0.073512</td>\n",
       "      <td>0.073834</td>\n",
       "      <td>0.059465</td>\n",
       "      <td>0.169983</td>\n",
       "      <td>0.003296</td>\n",
       "      <td>-0.006358</td>\n",
       "      <td>0.082469</td>\n",
       "    </tr>\n",
       "    <tr>\n",
       "      <th>UNICEF Sub-region 1</th>\n",
       "      <td>0.803352</td>\n",
       "      <td>1.000000</td>\n",
       "      <td>-0.420205</td>\n",
       "      <td>0.314189</td>\n",
       "      <td>0.328479</td>\n",
       "      <td>0.359825</td>\n",
       "      <td>0.264417</td>\n",
       "      <td>0.338213</td>\n",
       "      <td>0.331933</td>\n",
       "      <td>0.320295</td>\n",
       "      <td>0.307955</td>\n",
       "      <td>0.252330</td>\n",
       "      <td>0.170712</td>\n",
       "      <td>-0.008046</td>\n",
       "      <td>-0.003178</td>\n",
       "      <td>0.326652</td>\n",
       "    </tr>\n",
       "    <tr>\n",
       "      <th>Development Regions</th>\n",
       "      <td>-0.242034</td>\n",
       "      <td>-0.420205</td>\n",
       "      <td>1.000000</td>\n",
       "      <td>-0.540846</td>\n",
       "      <td>-0.530614</td>\n",
       "      <td>-0.537997</td>\n",
       "      <td>-0.473950</td>\n",
       "      <td>-0.530579</td>\n",
       "      <td>-0.553056</td>\n",
       "      <td>-0.538227</td>\n",
       "      <td>-0.521943</td>\n",
       "      <td>-0.476969</td>\n",
       "      <td>-0.125495</td>\n",
       "      <td>-0.022131</td>\n",
       "      <td>-0.008742</td>\n",
       "      <td>-0.543598</td>\n",
       "    </tr>\n",
       "    <tr>\n",
       "      <th>Female</th>\n",
       "      <td>0.051023</td>\n",
       "      <td>0.314189</td>\n",
       "      <td>-0.540846</td>\n",
       "      <td>1.000000</td>\n",
       "      <td>0.942020</td>\n",
       "      <td>0.978000</td>\n",
       "      <td>0.938331</td>\n",
       "      <td>0.955428</td>\n",
       "      <td>0.979814</td>\n",
       "      <td>0.980997</td>\n",
       "      <td>0.959708</td>\n",
       "      <td>0.907020</td>\n",
       "      <td>0.011002</td>\n",
       "      <td>-0.084330</td>\n",
       "      <td>0.433953</td>\n",
       "      <td>0.987846</td>\n",
       "    </tr>\n",
       "    <tr>\n",
       "      <th>Male</th>\n",
       "      <td>0.113273</td>\n",
       "      <td>0.328479</td>\n",
       "      <td>-0.530614</td>\n",
       "      <td>0.942020</td>\n",
       "      <td>1.000000</td>\n",
       "      <td>0.967262</td>\n",
       "      <td>0.941299</td>\n",
       "      <td>0.955686</td>\n",
       "      <td>0.968438</td>\n",
       "      <td>0.965511</td>\n",
       "      <td>0.945611</td>\n",
       "      <td>0.891424</td>\n",
       "      <td>0.011085</td>\n",
       "      <td>-0.032518</td>\n",
       "      <td>0.455940</td>\n",
       "      <td>0.982224</td>\n",
       "    </tr>\n",
       "    <tr>\n",
       "      <th>Rural</th>\n",
       "      <td>0.089913</td>\n",
       "      <td>0.359825</td>\n",
       "      <td>-0.537997</td>\n",
       "      <td>0.978000</td>\n",
       "      <td>0.967262</td>\n",
       "      <td>1.000000</td>\n",
       "      <td>0.925329</td>\n",
       "      <td>0.979225</td>\n",
       "      <td>0.988447</td>\n",
       "      <td>0.973776</td>\n",
       "      <td>0.938247</td>\n",
       "      <td>0.870049</td>\n",
       "      <td>0.017650</td>\n",
       "      <td>-0.049666</td>\n",
       "      <td>0.457573</td>\n",
       "      <td>0.987797</td>\n",
       "    </tr>\n",
       "    <tr>\n",
       "      <th>Urban</th>\n",
       "      <td>0.073412</td>\n",
       "      <td>0.264417</td>\n",
       "      <td>-0.473950</td>\n",
       "      <td>0.938331</td>\n",
       "      <td>0.941299</td>\n",
       "      <td>0.925329</td>\n",
       "      <td>1.000000</td>\n",
       "      <td>0.900580</td>\n",
       "      <td>0.927209</td>\n",
       "      <td>0.942868</td>\n",
       "      <td>0.945571</td>\n",
       "      <td>0.949493</td>\n",
       "      <td>0.008391</td>\n",
       "      <td>-0.034224</td>\n",
       "      <td>0.538688</td>\n",
       "      <td>0.954104</td>\n",
       "    </tr>\n",
       "    <tr>\n",
       "      <th>Poorest</th>\n",
       "      <td>0.086192</td>\n",
       "      <td>0.338213</td>\n",
       "      <td>-0.530579</td>\n",
       "      <td>0.955428</td>\n",
       "      <td>0.955686</td>\n",
       "      <td>0.979225</td>\n",
       "      <td>0.900580</td>\n",
       "      <td>1.000000</td>\n",
       "      <td>0.973056</td>\n",
       "      <td>0.939404</td>\n",
       "      <td>0.888807</td>\n",
       "      <td>0.826003</td>\n",
       "      <td>-0.007606</td>\n",
       "      <td>-0.026225</td>\n",
       "      <td>0.465593</td>\n",
       "      <td>0.969637</td>\n",
       "    </tr>\n",
       "    <tr>\n",
       "      <th>Poor</th>\n",
       "      <td>0.076595</td>\n",
       "      <td>0.331933</td>\n",
       "      <td>-0.553056</td>\n",
       "      <td>0.979814</td>\n",
       "      <td>0.968438</td>\n",
       "      <td>0.988447</td>\n",
       "      <td>0.927209</td>\n",
       "      <td>0.973056</td>\n",
       "      <td>1.000000</td>\n",
       "      <td>0.977809</td>\n",
       "      <td>0.939863</td>\n",
       "      <td>0.871761</td>\n",
       "      <td>0.004670</td>\n",
       "      <td>-0.071428</td>\n",
       "      <td>0.443652</td>\n",
       "      <td>0.989130</td>\n",
       "    </tr>\n",
       "    <tr>\n",
       "      <th>Middle Segment</th>\n",
       "      <td>0.073512</td>\n",
       "      <td>0.320295</td>\n",
       "      <td>-0.538227</td>\n",
       "      <td>0.980997</td>\n",
       "      <td>0.965511</td>\n",
       "      <td>0.973776</td>\n",
       "      <td>0.942868</td>\n",
       "      <td>0.939404</td>\n",
       "      <td>0.977809</td>\n",
       "      <td>1.000000</td>\n",
       "      <td>0.974965</td>\n",
       "      <td>0.908715</td>\n",
       "      <td>0.010164</td>\n",
       "      <td>-0.100464</td>\n",
       "      <td>0.450004</td>\n",
       "      <td>0.988436</td>\n",
       "    </tr>\n",
       "    <tr>\n",
       "      <th>Rich</th>\n",
       "      <td>0.073834</td>\n",
       "      <td>0.307955</td>\n",
       "      <td>-0.521943</td>\n",
       "      <td>0.959708</td>\n",
       "      <td>0.945611</td>\n",
       "      <td>0.938247</td>\n",
       "      <td>0.945571</td>\n",
       "      <td>0.888807</td>\n",
       "      <td>0.939863</td>\n",
       "      <td>0.974965</td>\n",
       "      <td>1.000000</td>\n",
       "      <td>0.939080</td>\n",
       "      <td>0.024707</td>\n",
       "      <td>-0.095428</td>\n",
       "      <td>0.434747</td>\n",
       "      <td>0.967291</td>\n",
       "    </tr>\n",
       "    <tr>\n",
       "      <th>Richest</th>\n",
       "      <td>0.059465</td>\n",
       "      <td>0.252330</td>\n",
       "      <td>-0.476969</td>\n",
       "      <td>0.907020</td>\n",
       "      <td>0.891424</td>\n",
       "      <td>0.870049</td>\n",
       "      <td>0.949493</td>\n",
       "      <td>0.826003</td>\n",
       "      <td>0.871761</td>\n",
       "      <td>0.908715</td>\n",
       "      <td>0.939080</td>\n",
       "      <td>1.000000</td>\n",
       "      <td>0.034195</td>\n",
       "      <td>-0.067089</td>\n",
       "      <td>0.447530</td>\n",
       "      <td>0.913799</td>\n",
       "    </tr>\n",
       "    <tr>\n",
       "      <th>Data Source</th>\n",
       "      <td>0.169983</td>\n",
       "      <td>0.170712</td>\n",
       "      <td>-0.125495</td>\n",
       "      <td>0.011002</td>\n",
       "      <td>0.011085</td>\n",
       "      <td>0.017650</td>\n",
       "      <td>0.008391</td>\n",
       "      <td>-0.007606</td>\n",
       "      <td>0.004670</td>\n",
       "      <td>0.010164</td>\n",
       "      <td>0.024707</td>\n",
       "      <td>0.034195</td>\n",
       "      <td>1.000000</td>\n",
       "      <td>0.030996</td>\n",
       "      <td>0.005945</td>\n",
       "      <td>0.011767</td>\n",
       "    </tr>\n",
       "    <tr>\n",
       "      <th>Time Period</th>\n",
       "      <td>0.003296</td>\n",
       "      <td>-0.008046</td>\n",
       "      <td>-0.022131</td>\n",
       "      <td>-0.084330</td>\n",
       "      <td>-0.032518</td>\n",
       "      <td>-0.049666</td>\n",
       "      <td>-0.034224</td>\n",
       "      <td>-0.026225</td>\n",
       "      <td>-0.071428</td>\n",
       "      <td>-0.100464</td>\n",
       "      <td>-0.095428</td>\n",
       "      <td>-0.067089</td>\n",
       "      <td>0.030996</td>\n",
       "      <td>1.000000</td>\n",
       "      <td>0.008617</td>\n",
       "      <td>-0.061838</td>\n",
       "    </tr>\n",
       "    <tr>\n",
       "      <th>Educational Level</th>\n",
       "      <td>-0.006358</td>\n",
       "      <td>-0.003178</td>\n",
       "      <td>-0.008742</td>\n",
       "      <td>0.433953</td>\n",
       "      <td>0.455940</td>\n",
       "      <td>0.457573</td>\n",
       "      <td>0.538688</td>\n",
       "      <td>0.465593</td>\n",
       "      <td>0.443652</td>\n",
       "      <td>0.450004</td>\n",
       "      <td>0.434747</td>\n",
       "      <td>0.447530</td>\n",
       "      <td>0.005945</td>\n",
       "      <td>0.008617</td>\n",
       "      <td>1.000000</td>\n",
       "      <td>0.452484</td>\n",
       "    </tr>\n",
       "    <tr>\n",
       "      <th>Total Dropout</th>\n",
       "      <td>0.082469</td>\n",
       "      <td>0.326652</td>\n",
       "      <td>-0.543598</td>\n",
       "      <td>0.987846</td>\n",
       "      <td>0.982224</td>\n",
       "      <td>0.987797</td>\n",
       "      <td>0.954104</td>\n",
       "      <td>0.969637</td>\n",
       "      <td>0.989130</td>\n",
       "      <td>0.988436</td>\n",
       "      <td>0.967291</td>\n",
       "      <td>0.913799</td>\n",
       "      <td>0.011767</td>\n",
       "      <td>-0.061838</td>\n",
       "      <td>0.452484</td>\n",
       "      <td>1.000000</td>\n",
       "    </tr>\n",
       "  </tbody>\n",
       "</table>\n",
       "</div>"
      ],
      "text/plain": [
       "                       Region  UNICEF Sub-region 1  Development Regions  \\\n",
       "Region               1.000000             0.803352            -0.242034   \n",
       "UNICEF Sub-region 1  0.803352             1.000000            -0.420205   \n",
       "Development Regions -0.242034            -0.420205             1.000000   \n",
       "Female               0.051023             0.314189            -0.540846   \n",
       "Male                 0.113273             0.328479            -0.530614   \n",
       "Rural                0.089913             0.359825            -0.537997   \n",
       "Urban                0.073412             0.264417            -0.473950   \n",
       "Poorest              0.086192             0.338213            -0.530579   \n",
       "Poor                 0.076595             0.331933            -0.553056   \n",
       "Middle Segment       0.073512             0.320295            -0.538227   \n",
       "Rich                 0.073834             0.307955            -0.521943   \n",
       "Richest              0.059465             0.252330            -0.476969   \n",
       "Data Source          0.169983             0.170712            -0.125495   \n",
       "Time Period          0.003296            -0.008046            -0.022131   \n",
       "Educational Level   -0.006358            -0.003178            -0.008742   \n",
       "Total Dropout        0.082469             0.326652            -0.543598   \n",
       "\n",
       "                       Female      Male     Rural     Urban   Poorest  \\\n",
       "Region               0.051023  0.113273  0.089913  0.073412  0.086192   \n",
       "UNICEF Sub-region 1  0.314189  0.328479  0.359825  0.264417  0.338213   \n",
       "Development Regions -0.540846 -0.530614 -0.537997 -0.473950 -0.530579   \n",
       "Female               1.000000  0.942020  0.978000  0.938331  0.955428   \n",
       "Male                 0.942020  1.000000  0.967262  0.941299  0.955686   \n",
       "Rural                0.978000  0.967262  1.000000  0.925329  0.979225   \n",
       "Urban                0.938331  0.941299  0.925329  1.000000  0.900580   \n",
       "Poorest              0.955428  0.955686  0.979225  0.900580  1.000000   \n",
       "Poor                 0.979814  0.968438  0.988447  0.927209  0.973056   \n",
       "Middle Segment       0.980997  0.965511  0.973776  0.942868  0.939404   \n",
       "Rich                 0.959708  0.945611  0.938247  0.945571  0.888807   \n",
       "Richest              0.907020  0.891424  0.870049  0.949493  0.826003   \n",
       "Data Source          0.011002  0.011085  0.017650  0.008391 -0.007606   \n",
       "Time Period         -0.084330 -0.032518 -0.049666 -0.034224 -0.026225   \n",
       "Educational Level    0.433953  0.455940  0.457573  0.538688  0.465593   \n",
       "Total Dropout        0.987846  0.982224  0.987797  0.954104  0.969637   \n",
       "\n",
       "                         Poor  Middle Segment      Rich   Richest  \\\n",
       "Region               0.076595        0.073512  0.073834  0.059465   \n",
       "UNICEF Sub-region 1  0.331933        0.320295  0.307955  0.252330   \n",
       "Development Regions -0.553056       -0.538227 -0.521943 -0.476969   \n",
       "Female               0.979814        0.980997  0.959708  0.907020   \n",
       "Male                 0.968438        0.965511  0.945611  0.891424   \n",
       "Rural                0.988447        0.973776  0.938247  0.870049   \n",
       "Urban                0.927209        0.942868  0.945571  0.949493   \n",
       "Poorest              0.973056        0.939404  0.888807  0.826003   \n",
       "Poor                 1.000000        0.977809  0.939863  0.871761   \n",
       "Middle Segment       0.977809        1.000000  0.974965  0.908715   \n",
       "Rich                 0.939863        0.974965  1.000000  0.939080   \n",
       "Richest              0.871761        0.908715  0.939080  1.000000   \n",
       "Data Source          0.004670        0.010164  0.024707  0.034195   \n",
       "Time Period         -0.071428       -0.100464 -0.095428 -0.067089   \n",
       "Educational Level    0.443652        0.450004  0.434747  0.447530   \n",
       "Total Dropout        0.989130        0.988436  0.967291  0.913799   \n",
       "\n",
       "                     Data Source  Time Period  Educational Level  \\\n",
       "Region                  0.169983     0.003296          -0.006358   \n",
       "UNICEF Sub-region 1     0.170712    -0.008046          -0.003178   \n",
       "Development Regions    -0.125495    -0.022131          -0.008742   \n",
       "Female                  0.011002    -0.084330           0.433953   \n",
       "Male                    0.011085    -0.032518           0.455940   \n",
       "Rural                   0.017650    -0.049666           0.457573   \n",
       "Urban                   0.008391    -0.034224           0.538688   \n",
       "Poorest                -0.007606    -0.026225           0.465593   \n",
       "Poor                    0.004670    -0.071428           0.443652   \n",
       "Middle Segment          0.010164    -0.100464           0.450004   \n",
       "Rich                    0.024707    -0.095428           0.434747   \n",
       "Richest                 0.034195    -0.067089           0.447530   \n",
       "Data Source             1.000000     0.030996           0.005945   \n",
       "Time Period             0.030996     1.000000           0.008617   \n",
       "Educational Level       0.005945     0.008617           1.000000   \n",
       "Total Dropout           0.011767    -0.061838           0.452484   \n",
       "\n",
       "                     Total Dropout  \n",
       "Region                    0.082469  \n",
       "UNICEF Sub-region 1       0.326652  \n",
       "Development Regions      -0.543598  \n",
       "Female                    0.987846  \n",
       "Male                      0.982224  \n",
       "Rural                     0.987797  \n",
       "Urban                     0.954104  \n",
       "Poorest                   0.969637  \n",
       "Poor                      0.989130  \n",
       "Middle Segment            0.988436  \n",
       "Rich                      0.967291  \n",
       "Richest                   0.913799  \n",
       "Data Source               0.011767  \n",
       "Time Period              -0.061838  \n",
       "Educational Level         0.452484  \n",
       "Total Dropout             1.000000  "
      ]
     },
     "execution_count": 34,
     "metadata": {},
     "output_type": "execute_result"
    }
   ],
   "source": [
    "#Column-wise correlation in the dataset\n",
    "df.corr()"
   ]
  },
  {
   "cell_type": "code",
   "execution_count": 35,
   "metadata": {},
   "outputs": [],
   "source": [
    "#Import seaborn library\n",
    "import seaborn as sns"
   ]
  },
  {
   "cell_type": "markdown",
   "metadata": {},
   "source": [
    "Kendall correlation"
   ]
  },
  {
   "cell_type": "code",
   "execution_count": 36,
   "metadata": {
    "scrolled": false
   },
   "outputs": [
    {
     "data": {
      "text/plain": [
       "<AxesSubplot:>"
      ]
     },
     "execution_count": 36,
     "metadata": {},
     "output_type": "execute_result"
    },
    {
     "data": {
      "image/png": "[encoded data removed]",
      "text/plain": [
       "<Figure size 1152x504 with 2 Axes>"
      ]
     },
     "metadata": {
      "needs_background": "light"
     },
     "output_type": "display_data"
    }
   ],
   "source": [
    "sns.heatmap(df.corr('kendall'),annot=True)"
   ]
  },
  {
   "cell_type": "markdown",
   "metadata": {},
   "source": [
    "Pearson, Spearman and Kendall correlations give similar results.\n",
    "\n",
    "Target column: Total Dropout\n",
    "\n",
    "Columns: Region, UNICEF Sub-region 1, Development Regions, Data Source, Time Period, Educational Level are not well correlated with the target column Total Dropout.\n",
    "\n",
    "Thus, they are dropped."
   ]
  },
  {
   "cell_type": "code",
   "execution_count": 37,
   "metadata": {
    "scrolled": false
   },
   "outputs": [],
   "source": [
    "df=df.drop(['Region','UNICEF Sub-region 1','Development Regions','Data Source','Time Period','Educational Level'],axis=1)"
   ]
  },
  {
   "cell_type": "code",
   "execution_count": 38,
   "metadata": {
    "scrolled": true
   },
   "outputs": [],
   "source": [
    "df.replace('', numpy.nan, inplace=True)"
   ]
  },
  {
   "cell_type": "code",
   "execution_count": 39,
   "metadata": {},
   "outputs": [],
   "source": [
    "df.dropna(inplace=True)"
   ]
  },
  {
   "cell_type": "code",
   "execution_count": 40,
   "metadata": {
    "scrolled": false
   },
   "outputs": [
    {
     "data": {
      "text/html": [
       "<div>\n",
       "<style scoped>\n",
       "    .dataframe tbody tr th:only-of-type {\n",
       "        vertical-align: middle;\n",
       "    }\n",
       "\n",
       "    .dataframe tbody tr th {\n",
       "        vertical-align: top;\n",
       "    }\n",
       "\n",
       "    .dataframe thead th {\n",
       "        text-align: right;\n",
       "    }\n",
       "</style>\n",
       "<table border=\"1\" class=\"dataframe\">\n",
       "  <thead>\n",
       "    <tr style=\"text-align: right;\">\n",
       "      <th></th>\n",
       "      <th>Female</th>\n",
       "      <th>Male</th>\n",
       "      <th>Rural</th>\n",
       "      <th>Urban</th>\n",
       "      <th>Poorest</th>\n",
       "      <th>Poor</th>\n",
       "      <th>Middle Segment</th>\n",
       "      <th>Rich</th>\n",
       "      <th>Richest</th>\n",
       "      <th>Total Dropout</th>\n",
       "    </tr>\n",
       "  </thead>\n",
       "  <tbody>\n",
       "    <tr>\n",
       "      <th>1</th>\n",
       "      <td>2.0</td>\n",
       "      <td>3.0</td>\n",
       "      <td>4.0</td>\n",
       "      <td>1.0</td>\n",
       "      <td>4.0</td>\n",
       "      <td>3.0</td>\n",
       "      <td>2.0</td>\n",
       "      <td>2.0</td>\n",
       "      <td>1.0</td>\n",
       "      <td>2.0</td>\n",
       "    </tr>\n",
       "    <tr>\n",
       "      <th>2</th>\n",
       "      <td>2.0</td>\n",
       "      <td>2.0</td>\n",
       "      <td>2.0</td>\n",
       "      <td>2.0</td>\n",
       "      <td>3.0</td>\n",
       "      <td>2.0</td>\n",
       "      <td>2.0</td>\n",
       "      <td>2.0</td>\n",
       "      <td>1.0</td>\n",
       "      <td>2.0</td>\n",
       "    </tr>\n",
       "    <tr>\n",
       "      <th>4</th>\n",
       "      <td>22.0</td>\n",
       "      <td>21.0</td>\n",
       "      <td>35.0</td>\n",
       "      <td>14.0</td>\n",
       "      <td>39.0</td>\n",
       "      <td>33.0</td>\n",
       "      <td>19.0</td>\n",
       "      <td>12.0</td>\n",
       "      <td>5.0</td>\n",
       "      <td>22.0</td>\n",
       "    </tr>\n",
       "    <tr>\n",
       "      <th>7</th>\n",
       "      <td>1.0</td>\n",
       "      <td>2.0</td>\n",
       "      <td>0.0</td>\n",
       "      <td>0.0</td>\n",
       "      <td>1.0</td>\n",
       "      <td>0.0</td>\n",
       "      <td>2.0</td>\n",
       "      <td>2.0</td>\n",
       "      <td>1.0</td>\n",
       "      <td>1.0</td>\n",
       "    </tr>\n",
       "    <tr>\n",
       "      <th>8</th>\n",
       "      <td>4.0</td>\n",
       "      <td>5.0</td>\n",
       "      <td>6.0</td>\n",
       "      <td>3.0</td>\n",
       "      <td>6.0</td>\n",
       "      <td>7.0</td>\n",
       "      <td>6.0</td>\n",
       "      <td>3.0</td>\n",
       "      <td>2.0</td>\n",
       "      <td>5.0</td>\n",
       "    </tr>\n",
       "  </tbody>\n",
       "</table>\n",
       "</div>"
      ],
      "text/plain": [
       "   Female  Male  Rural  Urban  Poorest  Poor  Middle Segment  Rich  Richest  \\\n",
       "1     2.0   3.0    4.0    1.0      4.0   3.0             2.0   2.0      1.0   \n",
       "2     2.0   2.0    2.0    2.0      3.0   2.0             2.0   2.0      1.0   \n",
       "4    22.0  21.0   35.0   14.0     39.0  33.0            19.0  12.0      5.0   \n",
       "7     1.0   2.0    0.0    0.0      1.0   0.0             2.0   2.0      1.0   \n",
       "8     4.0   5.0    6.0    3.0      6.0   7.0             6.0   3.0      2.0   \n",
       "\n",
       "   Total Dropout  \n",
       "1            2.0  \n",
       "2            2.0  \n",
       "4           22.0  \n",
       "7            1.0  \n",
       "8            5.0  "
      ]
     },
     "execution_count": 40,
     "metadata": {},
     "output_type": "execute_result"
    }
   ],
   "source": [
    "df.head()"
   ]
  },
  {
   "cell_type": "markdown",
   "metadata": {},
   "source": [
    "# Data Splitting and Model Building (Multiple Linear regression)"
   ]
  },
  {
   "cell_type": "code",
   "execution_count": 41,
   "metadata": {},
   "outputs": [],
   "source": [
    "X = df.iloc[:, :-1]\n",
    "y = df['Total Dropout']"
   ]
  },
  {
   "cell_type": "code",
   "execution_count": 42,
   "metadata": {},
   "outputs": [],
   "source": [
    "from sklearn.model_selection import train_test_split\n",
    "\n",
    "X_train, X_test, y_train, y_test = train_test_split(X, y, test_size=0.2, random_state=0)"
   ]
  },
  {
   "cell_type": "code",
   "execution_count": 43,
   "metadata": {},
   "outputs": [
    {
     "data": {
      "text/plain": [
       "LinearRegression()"
      ]
     },
     "execution_count": 43,
     "metadata": {},
     "output_type": "execute_result"
    }
   ],
   "source": [
    "from sklearn.linear_model import LinearRegression\n",
    "\n",
    "regressor = LinearRegression()\n",
    "regressor.fit(X, y)"
   ]
  },
  {
   "cell_type": "code",
   "execution_count": 44,
   "metadata": {},
   "outputs": [],
   "source": [
    "y_pred = regressor.predict(X_test)"
   ]
  },
  {
   "cell_type": "code",
   "execution_count": 45,
   "metadata": {},
   "outputs": [
    {
     "name": "stdout",
     "output_type": "stream",
     "text": [
      "[ 5.65085809e+01  1.98566797e+01  2.38594371e+01  1.88014224e+01\n",
      "  2.12666582e+01  8.95956449e+00  8.08405528e+00  3.56249450e+00\n",
      "  2.59385948e+01  6.00315192e+01  1.91092677e+01  2.88559579e+01\n",
      "  4.18685440e+01  4.97072943e-01  5.99296303e+00  2.26575444e+01\n",
      "  1.50598537e+00  2.99933724e+00  5.92219507e+00  5.54749170e+00\n",
      "  1.02135053e+00  3.96013144e+01  2.86388029e+01  1.49798576e+01\n",
      "  1.42718560e+00  5.37319997e+01  1.71023379e+01  2.60585343e+01\n",
      "  7.99080806e+00  4.72578008e+01  2.26446909e+01  2.95501978e+01\n",
      "  6.99973227e+00  2.00626865e+00  4.10242784e+01  4.68147663e+01\n",
      "  1.45444644e+01  9.86201644e-01  7.48808149e+00  2.67812329e+01\n",
      "  6.45792045e+00  2.29550465e+01  1.42672425e+00  5.87622554e+01\n",
      "  5.45160389e+00  5.45622213e+00  2.54353063e+01  1.20294562e+01\n",
      "  1.96278998e+01  4.50051474e-01  7.22371953e-02  4.49021620e+00\n",
      "  7.07705014e+00  4.91106840e+01  3.26903196e+01  1.60171239e+01\n",
      " -9.17124608e-04  5.10355482e+01  3.00040295e+00  1.92659010e-02\n",
      "  9.96400025e-01]\n"
     ]
    }
   ],
   "source": [
    "print(y_pred)"
   ]
  },
  {
   "cell_type": "code",
   "execution_count": 46,
   "metadata": {
    "scrolled": false
   },
   "outputs": [
    {
     "name": "stdout",
     "output_type": "stream",
     "text": [
      "447    56.0\n",
      "302    20.0\n",
      "459    24.0\n",
      "403    19.0\n",
      "105    22.0\n",
      "       ... \n",
      "293     0.0\n",
      "605    51.0\n",
      "55      3.0\n",
      "218     0.0\n",
      "182     1.0\n",
      "Name: Total Dropout, Length: 61, dtype: float64\n"
     ]
    }
   ],
   "source": [
    "print(y_test)"
   ]
  },
  {
   "cell_type": "code",
   "execution_count": 47,
   "metadata": {},
   "outputs": [
    {
     "data": {
      "text/plain": [
       "0.9996471691780692"
      ]
     },
     "execution_count": 47,
     "metadata": {},
     "output_type": "execute_result"
    }
   ],
   "source": [
    "#Checking the model accuracy\n",
    "regressor.score(X_test, y_test)"
   ]
  },
  {
   "cell_type": "code",
   "execution_count": 48,
   "metadata": {
    "scrolled": true
   },
   "outputs": [
    {
     "data": {
      "text/plain": [
       "array([0.43032422, 0.43661876, 0.02184386, 0.01119668, 0.01934443,\n",
       "       0.02018303, 0.02411191, 0.01434984, 0.02349589])"
      ]
     },
     "execution_count": 48,
     "metadata": {},
     "output_type": "execute_result"
    }
   ],
   "source": [
    "#Co-efficients of the Logistic regression equation\n",
    "regressor.coef_"
   ]
  },
  {
   "cell_type": "code",
   "execution_count": 49,
   "metadata": {
    "scrolled": false
   },
   "outputs": [
    {
     "data": {
      "text/plain": [
       "-0.0009171246082964046"
      ]
     },
     "execution_count": 49,
     "metadata": {},
     "output_type": "execute_result"
    }
   ],
   "source": [
    "#y-intercept of the Logistic regression equation\n",
    "regressor.intercept_"
   ]
  },
  {
   "cell_type": "markdown",
   "metadata": {},
   "source": [
    "# Multiple Linear regression equation"
   ]
  },
  {
   "cell_type": "markdown",
   "metadata": {},
   "source": [
    "Dropout Rate (DR)\n",
    "\n",
    "y -> target variable i.e. Total DR\n",
    "\n",
    "a -> y-intercept of Total DR\n",
    "\n",
    "b0 -> co-efficient of Female DR\n",
    "\n",
    "b1 -> co-efficient of Male DR\n",
    "\n",
    "b2 -> co-efficient of Rural DR\n",
    "\n",
    "b3 -> co-efficient of Urban DR\n",
    "\n",
    "b4 -> co-efficient of Poorest DR\n",
    "\n",
    "b5 -> co-efficient of Poor DR\n",
    "\n",
    "b6 -> co-efficient of Middle Segment DR\n",
    "\n",
    "b7 -> co-efficient of Rich DR\n",
    "\n",
    "b8 -> co-efficient of Richest DR\n",
    "\n",
    "General equation: y = a + b0x0 + b1x1 + ... + bnxn\n",
    "\n",
    "Actual equation: \n",
    "\n",
    "Total Dropout = -0.00092 + 0.4303(Female DR) + 0.4366(Male DR) + 0.0218(Rural DR) + 0.0112(Urban DR) + 0.0193(Poorest DR) + 0.0202(Poor DR) + 0.0241(Middle Segment DR) + 0.0143(Rich DR) + 0.0235(Richest DR)"
   ]
  },
  {
   "cell_type": "markdown",
   "metadata": {},
   "source": [
    "# Model evaluation through k-fold cross validation and evaluation metrics"
   ]
  },
  {
   "cell_type": "code",
   "execution_count": 50,
   "metadata": {
    "scrolled": false
   },
   "outputs": [
    {
     "name": "stdout",
     "output_type": "stream",
     "text": [
      "Avg accuracy: 0.9994454579559378\n"
     ]
    }
   ],
   "source": [
    "#K-fold cross-validation\n",
    "#Linear Regression\n",
    "X = df.iloc[:,:-1]\n",
    "y = df.iloc[:,-1]\n",
    "k = 5\n",
    "kf = model_selection.KFold(n_splits=k, random_state=None)\n",
    "model = LinearRegression()\n",
    "result = cross_val_score(model , X, y, cv = kf)\n",
    "print(\"Avg accuracy: {}\".format(result.mean()))"
   ]
  },
  {
   "cell_type": "code",
   "execution_count": 51,
   "metadata": {},
   "outputs": [
    {
     "data": {
      "text/plain": [
       "0.10637379914763806"
      ]
     },
     "execution_count": 51,
     "metadata": {},
     "output_type": "execute_result"
    }
   ],
   "source": [
    "# Root mean square error\n",
    "import sklearn\n",
    "sklearn.metrics.mean_squared_error(y_test,y_pred)"
   ]
  },
  {
   "cell_type": "code",
   "execution_count": 52,
   "metadata": {},
   "outputs": [
    {
     "data": {
      "text/plain": [
       "0.9996471691780692"
      ]
     },
     "execution_count": 52,
     "metadata": {},
     "output_type": "execute_result"
    }
   ],
   "source": [
    "#R2 score\n",
    "import sklearn\n",
    "sklearn.metrics.r2_score(y_test,y_pred)"
   ]
  },
  {
   "cell_type": "markdown",
   "metadata": {},
   "source": [
    "# Cross-checking the model with one of the dataset samples"
   ]
  },
  {
   "cell_type": "code",
   "execution_count": 53,
   "metadata": {},
   "outputs": [
    {
     "data": {
      "text/html": [
       "<div>\n",
       "<style scoped>\n",
       "    .dataframe tbody tr th:only-of-type {\n",
       "        vertical-align: middle;\n",
       "    }\n",
       "\n",
       "    .dataframe tbody tr th {\n",
       "        vertical-align: top;\n",
       "    }\n",
       "\n",
       "    .dataframe thead th {\n",
       "        text-align: right;\n",
       "    }\n",
       "</style>\n",
       "<table border=\"1\" class=\"dataframe\">\n",
       "  <thead>\n",
       "    <tr style=\"text-align: right;\">\n",
       "      <th></th>\n",
       "      <th>Female</th>\n",
       "      <th>Male</th>\n",
       "      <th>Rural</th>\n",
       "      <th>Urban</th>\n",
       "      <th>Poorest</th>\n",
       "      <th>Poor</th>\n",
       "      <th>Middle Segment</th>\n",
       "      <th>Rich</th>\n",
       "      <th>Richest</th>\n",
       "      <th>Total Dropout</th>\n",
       "    </tr>\n",
       "  </thead>\n",
       "  <tbody>\n",
       "    <tr>\n",
       "      <th>1</th>\n",
       "      <td>2.0</td>\n",
       "      <td>3.0</td>\n",
       "      <td>4.0</td>\n",
       "      <td>1.0</td>\n",
       "      <td>4.0</td>\n",
       "      <td>3.0</td>\n",
       "      <td>2.0</td>\n",
       "      <td>2.0</td>\n",
       "      <td>1.0</td>\n",
       "      <td>2.0</td>\n",
       "    </tr>\n",
       "  </tbody>\n",
       "</table>\n",
       "</div>"
      ],
      "text/plain": [
       "   Female  Male  Rural  Urban  Poorest  Poor  Middle Segment  Rich  Richest  \\\n",
       "1     2.0   3.0    4.0    1.0      4.0   3.0             2.0   2.0      1.0   \n",
       "\n",
       "   Total Dropout  \n",
       "1            2.0  "
      ]
     },
     "execution_count": 53,
     "metadata": {},
     "output_type": "execute_result"
    }
   ],
   "source": [
    "df.head(1)"
   ]
  },
  {
   "cell_type": "code",
   "execution_count": 54,
   "metadata": {},
   "outputs": [
    {
     "name": "stdout",
     "output_type": "stream",
     "text": [
      "Total dropout rate: 2%\n"
     ]
    }
   ],
   "source": [
    "print(\"Total dropout rate: \"+str(int(regressor.predict([[2,3,4,1,4,3,2,2,1]])))+\"%\")"
   ]
  },
  {
   "cell_type": "markdown",
   "metadata": {},
   "source": [
    "# Using the model to predict the total dropout rate for unseen data"
   ]
  },
  {
   "cell_type": "code",
   "execution_count": 55,
   "metadata": {},
   "outputs": [
    {
     "name": "stdout",
     "output_type": "stream",
     "text": [
      "Actual total dropout rate: 51.0%\n",
      "[54.0, 48.0, 55.0, 43.0, 63.0, 54.0, 52.0, 49.0, 38.0]\n",
      "Predicted total dropout rate: 51.0%\n"
     ]
    }
   ],
   "source": [
    "#Using the \"row\" saved earlier\n",
    "#It is a data sample never seen by the model before\n",
    "\n",
    "actual_total_dropout_rate = row[-1]\n",
    "print(\"Actual total dropout rate: \"+str(actual_total_dropout_rate)+\"%\")\n",
    "\n",
    "row.pop()\n",
    "row=row[3:-3]\n",
    "print(row)\n",
    "\n",
    "#Predicting using the model\n",
    "predicted_total_dropout_rate = regressor.predict([row])[0]\n",
    "print(\"Predicted total dropout rate: \"+str(round(predicted_total_dropout_rate,0))+\"%\")"
   ]
  }
 ],
 "metadata": {
  "kernelspec": {
   "display_name": "Python 3",
   "language": "python",
   "name": "python3"
  },
  "language_info": {
   "codemirror_mode": {
    "name": "ipython",
    "version": 3
   },
   "file_extension": ".py",
   "mimetype": "text/x-python",
   "name": "python",
   "nbconvert_exporter": "python",
   "pygments_lexer": "ipython3",
   "version": "3.8.5"
  }
 },
 "nbformat": 4,
 "nbformat_minor": 4
}
